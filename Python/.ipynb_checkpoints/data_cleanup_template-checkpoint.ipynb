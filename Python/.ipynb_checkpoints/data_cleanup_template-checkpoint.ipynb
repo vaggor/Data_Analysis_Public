{
 "cells": [
  {
   "cell_type": "code",
   "execution_count": 1,
   "id": "dff58483",
   "metadata": {},
   "outputs": [],
   "source": [
    "#import pandas as pd"
   ]
  },
  {
   "cell_type": "code",
   "execution_count": 2,
   "id": "000f6726",
   "metadata": {},
   "outputs": [],
   "source": [
    "import pandas as pd"
   ]
  },
  {
   "cell_type": "code",
   "execution_count": 3,
   "id": "8bc03a14",
   "metadata": {},
   "outputs": [],
   "source": [
    "#import csv"
   ]
  },
  {
   "cell_type": "code",
   "execution_count": null,
   "id": "575e462c",
   "metadata": {},
   "outputs": [],
   "source": []
  },
  {
   "cell_type": "code",
   "execution_count": null,
   "id": "9bd03ecd",
   "metadata": {},
   "outputs": [],
   "source": []
  },
  {
   "cell_type": "code",
   "execution_count": 4,
   "id": "884073e4",
   "metadata": {},
   "outputs": [],
   "source": [
    "#rename multiple columns in a list"
   ]
  },
  {
   "cell_type": "code",
   "execution_count": null,
   "id": "5a1a6f6e",
   "metadata": {},
   "outputs": [],
   "source": []
  },
  {
   "cell_type": "code",
   "execution_count": null,
   "id": "47a0be3d",
   "metadata": {},
   "outputs": [],
   "source": []
  },
  {
   "cell_type": "code",
   "execution_count": 5,
   "id": "73a3eb04",
   "metadata": {},
   "outputs": [],
   "source": [
    "#check null values"
   ]
  },
  {
   "cell_type": "code",
   "execution_count": null,
   "id": "e32aebb9",
   "metadata": {},
   "outputs": [],
   "source": []
  },
  {
   "cell_type": "code",
   "execution_count": null,
   "id": "acec9d96",
   "metadata": {},
   "outputs": [],
   "source": []
  },
  {
   "cell_type": "code",
   "execution_count": 6,
   "id": "79f241e6",
   "metadata": {},
   "outputs": [],
   "source": [
    "#Fill null values"
   ]
  },
  {
   "cell_type": "code",
   "execution_count": null,
   "id": "80b6efcb",
   "metadata": {},
   "outputs": [],
   "source": []
  },
  {
   "cell_type": "code",
   "execution_count": null,
   "id": "fc5b3f22",
   "metadata": {},
   "outputs": [],
   "source": []
  },
  {
   "cell_type": "code",
   "execution_count": 7,
   "id": "68c2e4ec",
   "metadata": {},
   "outputs": [],
   "source": [
    "#Check if null values have been filled"
   ]
  },
  {
   "cell_type": "code",
   "execution_count": null,
   "id": "434b59bc",
   "metadata": {},
   "outputs": [],
   "source": []
  },
  {
   "cell_type": "code",
   "execution_count": 8,
   "id": "be347d4c",
   "metadata": {},
   "outputs": [],
   "source": [
    "#check for duplicate"
   ]
  },
  {
   "cell_type": "code",
   "execution_count": null,
   "id": "dc02bb8e",
   "metadata": {},
   "outputs": [],
   "source": []
  },
  {
   "cell_type": "code",
   "execution_count": 9,
   "id": "ca20202f",
   "metadata": {},
   "outputs": [],
   "source": [
    "#drop dupliccates"
   ]
  },
  {
   "cell_type": "code",
   "execution_count": null,
   "id": "45d0dd22",
   "metadata": {},
   "outputs": [],
   "source": []
  },
  {
   "cell_type": "code",
   "execution_count": null,
   "id": "cccd3da8",
   "metadata": {},
   "outputs": [],
   "source": []
  },
  {
   "cell_type": "code",
   "execution_count": null,
   "id": "248ef31b",
   "metadata": {},
   "outputs": [],
   "source": [
    "# Checck for Outliers"
   ]
  },
  {
   "cell_type": "code",
   "execution_count": null,
   "id": "26fdf199",
   "metadata": {},
   "outputs": [],
   "source": []
  },
  {
   "cell_type": "code",
   "execution_count": null,
   "id": "6ef03ad8",
   "metadata": {},
   "outputs": [],
   "source": []
  },
  {
   "cell_type": "code",
   "execution_count": 10,
   "id": "4fce44ee",
   "metadata": {},
   "outputs": [],
   "source": [
    "#check data types"
   ]
  },
  {
   "cell_type": "code",
   "execution_count": null,
   "id": "f7a51360",
   "metadata": {},
   "outputs": [],
   "source": []
  },
  {
   "cell_type": "code",
   "execution_count": 11,
   "id": "6cd68320",
   "metadata": {},
   "outputs": [],
   "source": [
    "# Change data types"
   ]
  },
  {
   "cell_type": "code",
   "execution_count": null,
   "id": "2e5b0da3",
   "metadata": {},
   "outputs": [],
   "source": []
  },
  {
   "cell_type": "code",
   "execution_count": null,
   "id": "feef4b50",
   "metadata": {},
   "outputs": [],
   "source": []
  }
 ],
 "metadata": {
  "kernelspec": {
   "display_name": "Python 3 (ipykernel)",
   "language": "python",
   "name": "python3"
  },
  "language_info": {
   "codemirror_mode": {
    "name": "ipython",
    "version": 3
   },
   "file_extension": ".py",
   "mimetype": "text/x-python",
   "name": "python",
   "nbconvert_exporter": "python",
   "pygments_lexer": "ipython3",
   "version": "3.11.5"
  }
 },
 "nbformat": 4,
 "nbformat_minor": 5
}
